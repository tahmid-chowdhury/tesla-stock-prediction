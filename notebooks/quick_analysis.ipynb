{
 "cells": [
  {
   "cell_type": "markdown",
   "metadata": {},
   "source": [
    "# Tesla Stock Prediction - Quick Analysis\n",
    "\n",
    "This notebook provides a quick analysis of the Tesla stock prediction model and trading strategy."
   ]
  },
  {
   "cell_type": "code",
   "execution_count": null,
   "metadata": {},
   "source": [
    "import os\n",
    "import sys\n",
    "import pandas as pd\n",
    "import numpy as np\n",
    "import matplotlib.pyplot as plt\n",
    "import seaborn as sns\n",
    "\n",
    "# Add project root to path for imports\n",
    "sys.path.append('..')\n",
    "\n",
    "from src.data.data_loader import download_stock_data, load_stock_data\n",
    "from src.data.data_processor import add_technical_indicators, prepare_data, load_processed_data\n",
    "from src.models.lstm_model import load_trained_model, predict\n",
    "from src.utils.evaluation import calculate_metrics, calculate_direction_accuracy, print_metrics\n",
    "from src.visualization.visualize import plot_stock_data, plot_predictions\n",
    "from src.utils.simulation import run_quick_simulation, compare_strategies\n",
    "from config import *"
   ]
  },
  {
   "cell_type": "markdown",
   "metadata": {},
   "source": [
    "## 1. Load and Visualize Stock Data"
   ]
  },
  {
   "cell_type": "code",
   "execution_count": null,
   "metadata": {},
   "source": [
    "# Download or load Tesla stock data\n",
    "data = load_stock_data()\n",
    "if data is None:\n",
    "    data = download_stock_data()\n",
    "\n",
    "# Add technical indicators\n",
    "data_with_indicators = add_technical_indicators(data)\n",
    "\n",
    "# Display data\n",
    "data_with_indicators.tail()"
   ]
  },
  {
   "cell_type": "code",
   "execution_count": null,
   "metadata": {},
   "source": [
    "# Plot stock data with technical indicators\n",
    "plot_stock_data(data_with_indicators)"
   ]
  },
  {
   "cell_type": "markdown",
   "metadata": {},
   "source": [
    "## 2. Load LSTM Model and Make Predictions"
   ]
  },
  {
   "cell_type": "code",
   "execution_count": null,
   "metadata": {},
   "source": [
    "# Load the trained model\n",
    "model = load_trained_model('../models/saved_models/lstm_model.h5')\n",
    "if model is None:\n",
    "    print(\"No trained model found. Please run training first.\")\n",
    "else:\n",
    "    print(\"Model loaded successfully.\")"
   ]
  },
  {
   "cell_type": "code",
   "execution_count": null,
   "metadata": {},
   "source": [
    "# Load processed data and scalers\n",
    "try:\n",
    "    X_train, y_train, X_test, y_test, scaler_X, scaler_y = load_processed_data()\n",
    "    print(f\"Processed data loaded with shapes: X_train={X_train.shape}, X_test={X_test.shape}\")\n",
    "except Exception as e:\n",
    "    print(f\"Error loading processed data: {str(e)}\")\n",
    "    print(\"Preparing data again...\")\n",
    "    X_train, y_train, X_test, y_test, scaler_X, scaler_y = prepare_data(data_with_indicators)"
   ]
  },
  {
   "cell_type": "code",
   "execution_count": null,
   "metadata": {},
   "source": [
    "# Make predictions\n",
    "predictions = predict(model, X_test, scaler_y)\n",
    "\n",
    "# Calculate metrics\n",
    "metrics = calculate_metrics(y_test, predictions)\n",
    "direction_accuracy = calculate_direction_accuracy(y_test.flatten(), predictions.flatten())\n",
    "\n",
    "print_metrics(metrics)\n",
    "print(f\"Direction Accuracy: {direction_accuracy:.2f}%\")"
   ]
  },
  {
   "cell_type": "code",
   "execution_count": null,
   "metadata": {},
   "source": [
    "# Plot predictions\n",
    "test_dates = data_with_indicators.index[-len(X_test):]\n",
    "plot_predictions(y_test.flatten(), predictions.flatten(), dates=test_dates)"
   ]
  },
  {
   "cell_type": "markdown",
   "metadata": {},
   "source": [
    "## 3. Backtest Trading Strategies"
   ]
  },
  {
   "cell_type": "code",
   "execution_count": null,
   "metadata": {},
   "source": [
    "# Run a quick simulation with the adaptive strategy\n",
    "# Use last year of data for simulation\n",
    "start_date = data_with_indicators.index[-252]  # Approximately 1 trading year\n",
    "end_date = data_with_indicators.index[-1]\n",
    "\n",
    "simulation_results = run_quick_simulation(\n",
    "    model=model,\n",
    "    data=data_with_indicators,\n",
    "    scaler_X=scaler_X,\n",
    "    scaler_y=scaler_y,\n",
    "    start_date=start_date,\n",
    "    end_date=end_date,\n",
    "    strategy_type=\"adaptive\"\n",
    ")\n",
    "\n",
    "# Print the simulation summary\n",
    "summary = simulation_results['summary']\n",
    "print(f\"Initial Capital: ${summary['initial_capital']:.2f}\")\n",
    "print(f\"Final Capital: ${summary['final_capital']:.2f}\")\n",
    "print(f\"Profit/Loss: ${summary['profit']:.2f} ({summary['profit_percentage']:.2f}%)\")\n",
    "print(f\"Buy & Hold Value: ${summary['buy_hold_value']:.2f}\")\n",
    "print(f\"Strategy vs Buy & Hold: {summary['comparison_percentage']:.2f}%\")\n",
    "print(f\"Total Trades: {summary['total_trades']}\")"
   ]
  },
  {
   "cell_type": "code",
   "execution_count": null,
   "metadata": {},
   "source": [
    "# Compare different strategies\n",
    "comparison = compare_strategies(\n",
    "    model=model,\n",
    "    data=data_with_indicators,\n",
    "    scaler_X=scaler_X,\n",
    "    scaler_y=scaler_y,\n",
    "    start_date=start_date,\n",
    "    end_date=end_date\n",
    ")\n",
    "\n",
    "# Display results\n",
    "comparison"
   ]
  },
  {
   "cell_type": "code",
   "execution_count": null,
   "metadata": {},
   "source": [
    "# Visualize strategy comparison\n",
    "plt.figure(figsize=(12, 6))\n",
    "sns.barplot(x='Strategy', y='Return (%)', data=comparison)\n",
    "plt.title('Strategy Return Comparison')\n",
    "plt.grid(axis='y', alpha=0.3)\n",
    "plt.show()\n",
    "\n",
    "plt.figure(figsize=(12, 6))\n",
    "sns.barplot(x='Strategy', y='Vs Buy & Hold (%)', data=comparison)\n",
    "plt.title('Strategy Outperformance vs. Buy & Hold')\n",
    "plt.grid(axis='y', alpha=0.3)\n",
    "plt.axhline(y=0, color='r', linestyle='-')\n",
    "plt.show()"
   ]
  },
  {
   "cell_type": "markdown",
   "metadata": {},
   "source": [
    "## 4. Analyze Feature Importance\n",
    "\n",
    "Let's analyze which features are most important for making predictions."
   ]
  },
  {
   "cell_type": "code",
   "execution_count": null,
   "metadata": {},
   "source": [
    "# Create a correlation heatmap of features\n",
    "plt.figure(figsize=(12, 10))\n",
    "correlation = data_with_indicators.corr()\n",
    "sns.heatmap(correlation, annot=True, cmap='coolwarm', fmt='.2f')\n",
    "plt.title('Feature Correlation Matrix')\n",
    "plt.tight_layout()\n",
    "plt.show()"
   ]
  },
  {
   "cell_type": "code",
   "execution_count": null,
   "metadata": {},
   "source": [
    "# Check correlation with target variable (Close price)\n",
    "close_correlation = correlation['Close'].sort_values(ascending=False)\n",
    "close_correlation"
   ]
  },
  {
   "cell_type": "markdown",
   "metadata": {},
   "source": [
    "## 5. Prepare for Trading Simulation\n",
    "\n",
    "Here we'll simulate the trading days for March 24-28, 2025."
   ]
  },
  {
   "cell_type": "code",
   "execution_count": null,
   "metadata": {},
   "source": [
    "# We don't have actual data for these dates, so let's simulate using recent data\n",
    "# For this example, use the last 5 trading days as a proxy\n",
    "simulation_data = data_with_indicators.iloc[-5:].copy()\n",
    "\n",
    "# Display the simulation data\n",
    "simulation_data"
   ]
  },
  {
   "cell_type": "code",
   "execution_count": null,
   "metadata": {},
   "source": [
    "# Function to generate daily order recommendation for the simulation\n",
    "def generate_daily_recommendation(day_data, prev_data, model, scaler_X, scaler_y):\n",
    "    \"\"\"Generate a trading recommendation for a single day\"\"\"\n",
    "    # Ensure we have enough historical data (sequence_length days)\n",
    "    full_data = pd.concat([prev_data, day_data.iloc[:1]])\n",
    "    \n",
    "    # Create a trading agent for this simulation\n",
    "    strategy = AdaptiveTradingStrategy(threshold_buy=0.015, threshold_sell=0.015)\n",
    "    agent = TradingAgent(\n",
    "        model=model, \n",
    "        scaler_X=scaler_X, \n",
    "        scaler_y=scaler_y, \n",
    "        strategy=strategy,\n",
    "        initial_capital=INITIAL_CAPITAL,\n",
    "        transaction_fee=TRANSACTION_FEE\n",
    "    )\n",
    "    \n",
    "    # Generate order\n",
    "    order = agent.generate_daily_order(full_data, SEQUENCE_LENGTH)\n",
    "    \n",
    "    return order"
   ]
  },
  {
   "cell_type": "code",
   "execution_count": null,
   "metadata": {},
   "source": [
    "# Generate recommendations for each simulation day\n",","",",































} ]  }   ]    "print(\"Each day's recommendation is generated based on price predictions for the following day.\")"    "print(f\"The strategy is expected to outperform a basic buy-and-hold approach by {profit_percentage - buy_hold_profit_percentage:.2f}%.\")\n",    "print(\"Transaction fees (1%) have been factored into all decisions to ensure realistic profitability.\")\n",    "print(\"The adaptive trading strategy adjusts thresholds based on market volatility to optimize entry and exit points.\")\n",    "print(\"Our LSTM model has been trained on historical Tesla stock data with key technical indicators.\")\n",    "print(\"\\nTRADING STRATEGY RATIONALE:\")\n",    "# Final analysis and rationale\n",    "\n",    "    print(\"--------------------------------------------------------\")\n",    "    print(f\"Expected portfolio after execution: ${row['Portfolio Value']:.2f}\")\n",    "    \n",    "        print(\"HOLD: No transaction\")\n",    "    else:\n",    "        print(f\"Expected execution: Sell {row['Shares']} shares at approximately ${row['Close']:.2f} per share\")\n",    "        print(f\"SELL: {row['Shares']} shares\")\n",    "    elif row['Action'] == 'SELL':\n",    "        print(f\"Expected execution: Buy {row['Shares']} shares at approximately ${row['Close']:.2f} per share\")\n",    "        print(f\"BUY: ${row['Amount']:.2f}\")\n",    "    if row['Action'] == 'BUY':\n",    "    print(f\"\\nDay {i+1} - {row['Date']}:\")\n",    "for i, row in simulation_results.iterrows():\n",    "\n",    "print(\"--------------------------------------------------------\")\n",    "print(\"FINAL TRADING RECOMMENDATIONS FOR MARCH 24-28, 2025\")\n",    "print(\"--------------------------------------------------------\")\n",    "\n",    "# Let's create a final submission for the trading challenge\n",




































} ]  }   ]    "simulation_results"    "# Display the simulation results\n",    "\n",    "simulation_results, final_agent = run_full_simulation(model, data_with_indicators, scaler_X, scaler_y)\n",    "# Run the simulation\n",




    "\n",    "    return pd.DataFrame(daily_results), agent\n",
    "    \n",    "        })\n",    "            'Portfolio Value': portfolio_value\n",
    "            'Holdings': agent.shares,\n",    "            'Cash': agent.cash,\n",
    "            'Amount': order['amount'],\n",    "            'Shares': order['shares'],\n",
    "            'Action': order['action'],\n",    "            'Close': current_price,\n",
    "            'Date': day.strftime('%Y-%m-%d'),\n",    "        daily_results.append({\n",

    "        # Record daily results\n",    "        \n",    "        portfolio_value = agent.get_portfolio_value(current_price)\n",

    "        # Calculate portfolio value\n",    "        \n",

    "        agent.execute_trade(order)\n",    "        # Execute trade\n",    "        \n",

    "        order = agent.generate_daily_order(current_data, SEQUENCE_LENGTH)\n",    "        # Generate order\n",    "        \n",    "        current_price = daily_data.iloc[i]['Close']\n",

    "        current_data = pd.concat([historical_data, daily_data.iloc[:i+1]])\n",
    "        # Use historical data plus days up to current day\n",    "    for i, day in enumerate(simulation_dates):\n",
    "    # Run simulation for each day\n",    "    \n",
    "    daily_results = []\n",    "    \n",    "    )\n",
    "        transaction_fee=TRANSACTION_FEE\n",    "        initial_capital=INITIAL_CAPITAL,\n",
    "        strategy=strategy,\n",    "        scaler_y=scaler_y, \n",


    "        scaler_X=scaler_X, \n",    "        model=model, \n",    "    agent = TradingAgent(\n",
    "    strategy = AdaptiveTradingStrategy(threshold_buy=0.015, threshold_sell=0.015)\n",

    "    # Create a trading agent\n",    "    \n",    "    simulation_dates = pd.date_range(start=\"2025-03-24\", end=\"2025-03-28\", freq='B')\n",

























} ]  }


   ]    "simulation_df"    "simulation_df = pd.DataFrame(simulation_results)\n",    "# Convert to DataFrame\n",

    "\n",    "    })\n",    "        'Amount': order['amount']\n",

} ]  }   ]    "print(f\"\\nStrategy vs Buy & Hold: ${profit - buy_hold_profit:.2f} ({profit_percentage - buy_hold_profit_percentage:.2f}%)\")"    "print(f\"Buy & Hold Profit/Loss: ${buy_hold_profit:.2f} ({buy_hold_profit_percentage:.2f}%)\")\n",    "print(f\"Buy & Hold Value: ${buy_hold_value:.2f}\")\n",    "print(f\"\\nBuy & Hold Strategy:\")\n",    "\n",    "buy_hold_profit_percentage = (buy_hold_profit / initial_value) * 100\n",    "buy_hold_profit = buy_hold_value - initial_value\n",    "buy_hold_value = shares_bought * final_price\n",    "shares_bought = initial_value / initial_price\n",    "final_price = simulation_results['Close'].iloc[-1]\n",    "initial_price = simulation_results['Close'].iloc[0]\n",    "# Calculate buy and hold strategy\n",    "\n",    "print(f\"Final Shares: {simulation_results['Holdings'].iloc[-1]}\")\n",    "print(f\"Final Cash: ${simulation_results['Cash'].iloc[-1]:.2f}\")\n",
    "print(f\"Profit/Loss: ${profit:.2f} ({profit_percentage:.2f}%)\")\n",    "print(f\"Final Portfolio Value: ${final_value:.2f}\")\n",    "print(f\"Initial Capital: ${initial_value:.2f}\")\n",    "\n",    "profit_percentage = (profit / initial_value) * 100\n",    "profit = final_value - initial_value\n",    "final_value = simulation_results['Portfolio Value'].iloc[-1]\n",    "initial_value = INITIAL_CAPITAL\n",    "# Print the final summary\n",    "\n",    "plt.show()\n",    "plt.tight_layout()\n",    "plt.xticks(range(len(simulation_results)), simulation_results['Date'])\n",    "plt.grid(True, alpha=0.3)\n",    "plt.ylabel('Portfolio Value (USD)')\n",    "plt.xlabel('Date')\n",    "plt.title('Portfolio Performance During Simulation (March 24-28, 2025)')\n",    "plt.plot(simulation_results['Date'], simulation_results['Portfolio Value'], marker='o', linewidth=2)\n",    "plt.figure(figsize=(12, 6))\n",    "# Visualize the portfolio performance\n",











    "    # Create dates for the simulation\n",    "    \n",
    "    daily_data = data_with_indicators.iloc[-5:].copy()  # Use last 5 days as proxy\n",
    "    historical_data = data_with_indicators.iloc[-100:].copy()  # Use last 100 days for context\n",
    "    # Use historical data plus days up to current day\n",    "    \"\"\"Run a full trading simulation for the 5-day period\"\"\"\n",    "def run_full_simulation(model, data_with_indicators, scaler_X, scaler_y):\n",    "# Now let's run a complete simulation for the 5 days\n",














    "        'Shares': order['shares'],\n",    "        'Signal': order['action'],\n",





    "        'Predicted': agent.predict_next_price(current_data, SEQUENCE_LENGTH),\n",

    "        'Close': daily_data.iloc[i]['Close'],\n",    "        'Date': day.strftime('%Y-%m-%d'),\n",

    "    simulation_results.append({\n",

    "    # Record results\n",    "    \n",    "    order = agent.generate_daily_order(current_data, SEQUENCE_LENGTH)\n",
    "    # Generate order\n",    "    \n",    "    current_data = pd.concat([historical_data, daily_data.iloc[:i+1]])\n",


















} ]  }   ]    "plt.show()"    "plt.tight_layout()\n",    "plt.xticks(range(len(simulation_df)), simulation_df['Date'])\n",    "plt.legend()\n",    "plt.grid(True, alpha=0.3)\n",    "plt.ylabel('Price (USD)')\n",    "plt.xlabel('Date')\n",    "plt.title('Tesla Stock Prediction and Trading Signals for March 24-28, 2025')\n",    "\n",    "        plt.scatter(i, row['Close'], marker='v', s=150, color='red', label='Sell' if i==0 else \"\")\n",

    "    elif row['Signal'] == 'SELL':\n",    "        plt.scatter(i, row['Close'], marker='^', s=150, color='green', label='Buy' if i==0 else \"\")\n",    "    if row['Signal'] == 'BUY':\n",    "for i, row in simulation_df.iterrows():\n",    "# Add buy/sell markers\n",    "\n",    "plt.plot(simulation_df['Date'], simulation_df['Predicted'], marker='x', label='Predicted Price')\n",    "plt.plot(simulation_df['Date'], simulation_df['Close'], marker='o', label='Actual Price')\n",    "plt.figure(figsize=(12, 6))\n",    "# Visualize the simulation results\n",   "source": [   "metadata": {},   "execution_count": null,   "cell_type": "code",  {  },   ]    "simulation_df"    "# Display the simulation results\n",    "\n",    "simulation_df['Recommendation'] = recommendations\n",    "simulation_df = simulation_data.copy()\n",    "# Create a DataFrame to store the simulation results\n",    "\n",    "    recommendations.append(recommendation)\n",    "    recommendation = generate_daily_recommendation(day_data, prev_data, model, scaler_X, scaler_y)\n",

    "    # Use historical data plus days up to current day\n",

   "source": [   "metadata": {},   "execution_count": null,   "cell_type": "code",  {  },   ]



    "    prev_data = simulation_data.iloc[:i]\n",    "    day_data = simulation_data.iloc[[i]]\n",    "for i in range(len(simulation_data)):\n",    "recommendations = []\n",    "from src.trading.trading_strategy import AdaptiveTradingStrategy\n",
    "from src.trading.trading_agent import TradingAgent\n",
    "\n",
    "# Create a full dataframe to store simulation results\n",
    "simulation_dates = pd.date_range(start=\"2025-03-24\", end=\"2025-03-28\", freq='B')\n",
    "simulation_results = []\n",
    "\n",
    "# Get data for simulation (using past data as proxy)\n",
    "historical_data = data_with_indicators.iloc[-100:].copy()  # Use last 100 days for context\n",
    "daily_data = data_with_indicators.iloc[-5:].copy()  # Use last 5 days as proxy for simulation days\n",
    "\n",
    "# Reset index to use the simulation dates\n",
    "for i, day in enumerate(simulation_dates):\n",


    "    \n",    "    )\n",    "    # Create a trading agent for the simulation\n",
    "    strategy = AdaptiveTradingStrategy(threshold_buy=0.015, threshold_sell=0.015)\n",
    "    agent = TradingAgent(\n",


    "        transaction_fee=TRANSACTION_FEE\n",    "        initial_capital=INITIAL_CAPITAL,\n",    "        model=model, \n",


    "        strategy=strategy,\n",    "        scaler_y=scaler_y, \n",    "        scaler_X=scaler_X, \n",